{
 "cells": [
  {
   "cell_type": "code",
   "execution_count": null,
   "metadata": {},
   "outputs": [],
   "source": [
    "from abc import ABC, abstractmethod\n",
    "from notifications import NotificaClientes, Cliente, SMSNotification, EmailNotification\n",
    "\n",
    "#Factory\n",
    "class Juego(ABC):\n",
    "    def __init__(self, nombre: str, precio: float)-> None:\n",
    "        self.nombre = nombre\n",
    "        self.precio = precio\n",
    "    \n",
    "    @abstractmethod\n",
    "    def procesar_compra(self, notifica_clientes: NotificaClientes)->None:\n",
    "        pass\n",
    "\n",
    "class JuegoFisico(Juego):\n",
    "    def __init__(self, nombre: str, precio: float, telefono: str)-> None:\n",
    "        super().__init__(nombre, precio)\n",
    "        self.telefono = telefono\n",
    "\n",
    "    def definir_compra(self, notifica_clientes: NotificaClientes)->None:\n",
    "        cliente = Cliente(SMSNotification(), self.telefono)\n",
    "        notifica_clientes.attach(cliente)\n",
    "        \n",
    "        notifica_clientes.notifica(f\"Hemos recibido tu compra del juego: {self.nombre}, estamos preparando tu envio!!!! xD\")\n",
    "\n",
    "class JuegoDigital(Juego):\n",
    "    def __init__(self, nombre: str, precio: float, telefono: str)-> None:\n",
    "        super().__init__(nombre, precio)\n",
    "        self.email = email\n",
    "\n",
    "    def definir_compra(self, notifica_clientes: NotificaClientes)->None:\n",
    "        cliente = Cliente(EmailNotification(), self.email)\n",
    "        notifica_clientes.attach(cliente)\n",
    "        \n",
    "        notifica_clientes.notifica(f\"Has comprado: {self.nombre}, este es tu codigo de descarga: XXXX-YYYY-1234-5678 Disfrutalo\")\n",
    "\n",
    "##decorator\n",
    "\n",
    "class EnvolverParaRegalo(Juego):\n",
    "    def __init__(self, juego:Juego)->None:\n",
    "        self.juego = juego\n",
    "    \n",
    "    def procesar_compra(self, notifica_clientes: NotificaClientes)->None:\n",
    "        self.juego.procesar_compra(notifica_clientes)\n",
    "        notifica_clientes.notifica(f\"El juego sera enviado para dar como regalo xD!!!!\")\n",
    "\n",
    "##Factory Method\n",
    "\n",
    "class ElegirCompra:\n",
    "    @staticmethod\n",
    "    def crear_juego(tipo: str, nombre: str, precio: float, email = None, telefono = None, envolver = False):\n",
    "        if(tipo == \"Fisico\" or tipo == \"fisico\"):\n",
    "             "
   ]
  }
 ],
 "metadata": {
  "kernelspec": {
   "display_name": "Python 3",
   "language": "python",
   "name": "python3"
  },
  "language_info": {
   "codemirror_mode": {
    "name": "ipython",
    "version": 3
   },
   "file_extension": ".py",
   "mimetype": "text/x-python",
   "name": "python",
   "nbconvert_exporter": "python",
   "pygments_lexer": "ipython3",
   "version": "3.11.9"
  }
 },
 "nbformat": 4,
 "nbformat_minor": 2
}
