{
 cells: [
  {
   cell_type: code,
   execution_count: 1,
   id: 95ef10c8,
   metadata: {},
   outputs: [],
   source: [
    from pydantic import BaseModel,
    from typing import Optional,
    ,
    class Compras(BaseModel):,
        tipo: str,
        nombre: str,
        precio: float,
        envolver_regalo: Optional[bool] = False,
        email: Optional[str] = None,
        telefono: Optional[str] = None
   ]
  }
 ],
 metadata: {
  kernelspec: {
   display_name: Python 3,
   language: python,
   name: python3
  },
  language_info: {
   codemirror_mode: {
    name: ipython,
    version: 3
   },
   file_extension: .py,
   mimetype: text/x-python,
   name: python,
   nbconvert_exporter: python,
   pygments_lexer: ipython3,
   version: 3.11.9
  }
 },
 nbformat: 4,
 nbformat_minor: 5
}
