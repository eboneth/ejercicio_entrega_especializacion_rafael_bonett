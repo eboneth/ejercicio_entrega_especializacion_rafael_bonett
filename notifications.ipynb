{
 "cells": [
  {
   "cell_type": "code",
   "execution_count": null,
   "id": "5ef8974a",
   "metadata": {},
   "outputs": [],
   "source": [
    "from abc import ABC, abstractmethod\n",
    "\n",
    "class NotificationStore(ABC):\n",
    "    @abstractmethod\n",
    "    def enviar(self, mensaje: str, destino: str)->None:\n",
    "        pass\n",
    "\n",
    "class NotificationClient(ABC):\n",
    "    @abstractmethod\n",
    "    def recibir(self, mensaje: str)->None:\n",
    "        pass\n",
    "\n",
    "class SMSNotification(NotificationStore):\n",
    "    def enviar(self, mensaje: str, destino: str)->None:\n",
    "        print(f\"Mensaje Enviado a: {destino}: {mensaje}\")\n",
    "\n",
    "class EmailNotification(NotificationStore):\n",
    "    def enviar(self, mensaje: str, destino: str)->None:\n",
    "        print(f\"Email Enviado a: {destino}: {mensaje}\")\n",
    "\n",
    "class Cliente(NotificationClient):\n",
    "    def __init__(self, store_notificacion: NotificationStore, destino: str)->None:\n",
    "        self.store_notificacion = store_notificacion\n",
    "        self.destino = destino\n",
    "\n",
    "    def recibir(self, message: str)->None:\n",
    "        self.store_notificacion.enviar(mensaje, self.destino)\n",
    "\n",
    "\n",
    "#class NotificaClientes:\n",
    "#    def __init__(self)->None:\n",
    "#        self._clientes = []\n",
    "    \n",
    "#    def attach(self, cliente: Cliente)->None:\n",
    "#        self._clientes.append(cliente)\n",
    "    \n",
    "#    def notifica(self, mensaje: str)->None:\n",
    "#        for o in self._clientes:\n",
    "#            o.update(mensaje)\n",
    "\n"
   ]
  }
 ],
 "metadata": {
  "kernelspec": {
   "display_name": "Python 3",
   "language": "python",
   "name": "python3"
  },
  "language_info": {
   "codemirror_mode": {
    "name": "ipython",
    "version": 3
   },
   "file_extension": ".py",
   "mimetype": "text/x-python",
   "name": "python",
   "nbconvert_exporter": "python",
   "pygments_lexer": "ipython3",
   "version": "3.9.6"
  }
 },
 "nbformat": 4,
 "nbformat_minor": 5
}
